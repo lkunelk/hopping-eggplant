{
 "cells": [
  {
   "cell_type": "code",
   "execution_count": 1,
   "id": "incoming-trail",
   "metadata": {},
   "outputs": [
    {
     "ename": "",
     "evalue": "",
     "output_type": "error",
     "traceback": [
      "<interactive>:1:1: error:\n    Could not find module ‘Statistics.Sample’\n    Use -v to see a list of the files searched for."
     ]
    }
   ],
   "source": [
    "import qualified Statistics.Sample as St"
   ]
  },
  {
   "cell_type": "code",
   "execution_count": null,
   "id": "dimensional-motel",
   "metadata": {},
   "outputs": [],
   "source": []
  }
 ],
 "metadata": {
  "kernelspec": {
   "display_name": "Haskell",
   "language": "haskell",
   "name": "haskell"
  },
  "language_info": {
   "codemirror_mode": "ihaskell",
   "file_extension": ".hs",
   "mimetype": "text/x-haskell",
   "name": "haskell",
   "pygments_lexer": "Haskell",
   "version": "8.6.5"
  }
 },
 "nbformat": 4,
 "nbformat_minor": 5
}
