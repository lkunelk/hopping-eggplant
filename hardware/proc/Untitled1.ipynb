{
 "cells": [
  {
   "cell_type": "code",
   "execution_count": 1,
   "id": "directed-diagnosis",
   "metadata": {},
   "outputs": [],
   "source": [
    "import numpy as np\n",
    "import math"
   ]
  },
  {
   "cell_type": "code",
   "execution_count": 4,
   "id": "regulated-transcript",
   "metadata": {},
   "outputs": [],
   "source": [
    "def bootstrap(D, f, g, n):\n",
    "    return g([f(np.random.choice(D, size=D.shape[0])) for _ in range(n)])"
   ]
  },
  {
   "cell_type": "code",
   "execution_count": 6,
   "id": "improved-silver",
   "metadata": {},
   "outputs": [
    {
     "data": {
      "text/plain": [
       "0.6952082907722922"
      ]
     },
     "execution_count": 6,
     "metadata": {},
     "output_type": "execute_result"
    }
   ],
   "source": [
    "D = np.array([31,28,23,25.00000,21,18.00000,28,24,17,19,14,35,17,16,27.00000,29,18,15.00000,16,22,15.00000,21,19,25]) # ,5,2])\n",
    "bootstrap(D, np.std, np.std, 1024)"
   ]
  }
 ],
 "metadata": {
  "kernelspec": {
   "display_name": "Python 3",
   "language": "python",
   "name": "python3"
  },
  "language_info": {
   "codemirror_mode": {
    "name": "ipython",
    "version": 3
   },
   "file_extension": ".py",
   "mimetype": "text/x-python",
   "name": "python",
   "nbconvert_exporter": "python",
   "pygments_lexer": "ipython3",
   "version": "3.8.5"
  }
 },
 "nbformat": 4,
 "nbformat_minor": 5
}
